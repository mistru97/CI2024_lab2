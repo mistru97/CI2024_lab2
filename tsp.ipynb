{
 "cells": [
  {
   "cell_type": "markdown",
   "metadata": {
    "vscode": {
     "languageId": "plaintext"
    }
   },
   "source": [
    "Copyright **`(c)`** 2024 Giovanni Squillero `<giovanni.squillero@polito.it>`  \n",
    "[`https://github.com/squillero/computational-intelligence`](https://github.com/squillero/computational-intelligence)  \n",
    "Free under certain conditions — see the [`license`](https://github.com/squillero/computational-intelligence/blob/master/LICENSE.md) for details.  "
   ]
  },
  {
   "cell_type": "code",
   "execution_count": 228,
   "metadata": {},
   "outputs": [],
   "source": [
    "import logging\n",
    "import functools\n",
    "from itertools import combinations\n",
    "import pandas as pd\n",
    "import numpy as np\n",
    "from geopy.distance import geodesic\n",
    "import networkx as nx\n",
    "\n",
    "from icecream import ic\n",
    "from enum import Enum\n",
    "from dataclasses import dataclass\n",
    "from tqdm.auto import tqdm\n",
    "from collections import namedtuple\n",
    "\n",
    "logging.basicConfig(level=logging.DEBUG)"
   ]
  },
  {
   "cell_type": "code",
   "execution_count": 229,
   "metadata": {},
   "outputs": [
    {
     "data": {
      "text/html": [
       "<div>\n",
       "<style scoped>\n",
       "    .dataframe tbody tr th:only-of-type {\n",
       "        vertical-align: middle;\n",
       "    }\n",
       "\n",
       "    .dataframe tbody tr th {\n",
       "        vertical-align: top;\n",
       "    }\n",
       "\n",
       "    .dataframe thead th {\n",
       "        text-align: right;\n",
       "    }\n",
       "</style>\n",
       "<table border=\"1\" class=\"dataframe\">\n",
       "  <thead>\n",
       "    <tr style=\"text-align: right;\">\n",
       "      <th></th>\n",
       "      <th>name</th>\n",
       "      <th>lat</th>\n",
       "      <th>lon</th>\n",
       "    </tr>\n",
       "  </thead>\n",
       "  <tbody>\n",
       "    <tr>\n",
       "      <th>0</th>\n",
       "      <td>Ancona</td>\n",
       "      <td>43.60</td>\n",
       "      <td>13.50</td>\n",
       "    </tr>\n",
       "    <tr>\n",
       "      <th>1</th>\n",
       "      <td>Andria</td>\n",
       "      <td>41.23</td>\n",
       "      <td>16.29</td>\n",
       "    </tr>\n",
       "    <tr>\n",
       "      <th>2</th>\n",
       "      <td>Bari</td>\n",
       "      <td>41.12</td>\n",
       "      <td>16.87</td>\n",
       "    </tr>\n",
       "    <tr>\n",
       "      <th>3</th>\n",
       "      <td>Bergamo</td>\n",
       "      <td>45.70</td>\n",
       "      <td>9.67</td>\n",
       "    </tr>\n",
       "    <tr>\n",
       "      <th>4</th>\n",
       "      <td>Bologna</td>\n",
       "      <td>44.50</td>\n",
       "      <td>11.34</td>\n",
       "    </tr>\n",
       "  </tbody>\n",
       "</table>\n",
       "</div>"
      ],
      "text/plain": [
       "      name    lat    lon\n",
       "0   Ancona  43.60  13.50\n",
       "1   Andria  41.23  16.29\n",
       "2     Bari  41.12  16.87\n",
       "3  Bergamo  45.70   9.67\n",
       "4  Bologna  44.50  11.34"
      ]
     },
     "execution_count": 229,
     "metadata": {},
     "output_type": "execute_result"
    }
   ],
   "source": [
    "CITIES = pd.read_csv('cities/italy.csv', header=None, names=['name', 'lat', 'lon'])\n",
    "DIST_MATRIX = np.zeros((len(CITIES), len(CITIES)))\n",
    "for c1, c2 in combinations(CITIES.itertuples(), 2):\n",
    "    DIST_MATRIX[c1.Index, c2.Index] = DIST_MATRIX[c2.Index, c1.Index] = geodesic(\n",
    "        (c1.lat, c1.lon), (c2.lat, c2.lon)\n",
    "    ).km\n",
    "CITIES.head()"
   ]
  },
  {
   "cell_type": "markdown",
   "metadata": {},
   "source": [
    "## Lab2 - TSP\n",
    "\n",
    "https://www.wolframcloud.com/obj/giovanni.squillero/Published/Lab2-tsp.nb"
   ]
  },
  {
   "cell_type": "code",
   "execution_count": 230,
   "metadata": {},
   "outputs": [],
   "source": [
    "def tsp_cost(tsp):\n",
    "    assert tsp[0] == tsp[-1]\n",
    "    assert set(tsp) == set(range(len(CITIES)))\n",
    "\n",
    "    tot_cost = 0\n",
    "    for c1, c2 in zip(tsp, tsp[1:]):\n",
    "        tot_cost += DIST_MATRIX[c1, c2]\n",
    "    return tot_cost"
   ]
  },
  {
   "cell_type": "markdown",
   "metadata": {},
   "source": [
    "## First Greedy Algorithm"
   ]
  },
  {
   "cell_type": "code",
   "execution_count": 248,
   "metadata": {},
   "outputs": [
    {
     "name": "stderr",
     "output_type": "stream",
     "text": [
      "INFO:root:result: Found a path of 46 steps, total length 4436.03km\n"
     ]
    }
   ],
   "source": [
    "visited = np.full(len(CITIES), False)\n",
    "dist = DIST_MATRIX.copy()\n",
    "city = 0\n",
    "visited[city] = True\n",
    "tsp = list()\n",
    "tsp.append(int(city))\n",
    "while not np.all(visited):\n",
    "    dist[:, city] = np.inf\n",
    "    closest = np.argmin(dist[city])\n",
    "    logging.debug(\n",
    "        f\"step: {CITIES.at[city,'name']} -> {CITIES.at[closest,'name']} ({DIST_MATRIX[city,closest]:.2f}km)\"\n",
    "    )\n",
    "    visited[closest] = True\n",
    "    city = closest\n",
    "    tsp.append(int(city))\n",
    "logging.debug(\n",
    "    f\"step: {CITIES.at[tsp[-1],'name']} -> {CITIES.at[tsp[0],'name']} ({DIST_MATRIX[tsp[-1],tsp[0]]:.2f}km)\"\n",
    ")\n",
    "tsp.append(tsp[0])\n",
    "\n",
    "\n",
    "logging.info(f\"result: Found a path of {len(tsp)-1} steps, total length {tsp_cost(tsp):.2f}km\")"
   ]
  },
  {
   "cell_type": "markdown",
   "metadata": {},
   "source": [
    "## Problem model"
   ]
  },
  {
   "cell_type": "code",
   "execution_count": 232,
   "metadata": {},
   "outputs": [],
   "source": [
    "class country(str, Enum):\n",
    "    it = 'cities/italy.csv'\n",
    "    cn = 'cities/china.csv'\n",
    "    ru = 'cities/russia.csv'\n",
    "    us = 'cities/us.csv'\n",
    "    vn = 'cities/vanuatu.csv'\n",
    "\n",
    "class tspProblem:\n",
    "    def __init__(self, country: str):\n",
    "        self.CITIES = pd.read_csv(country, header=None, names=['name', 'lat', 'lon'])\n",
    "        self.DIST_MATRIX = np.zeros((len(CITIES), len(CITIES)))\n",
    "        for c1, c2 in combinations(CITIES.itertuples(), 2):\n",
    "            self.DIST_MATRIX[c1.Index, c2.Index] = self.DIST_MATRIX[c2.Index, c1.Index] = geodesic(\n",
    "                (c1.lat, c1.lon), (c2.lat, c2.lon)\n",
    "            ).km\n",
    "            \n",
    "    def counter(fn):\n",
    "        \"\"\"Simple decorator for counting number of calls\"\"\"\n",
    "\n",
    "        @functools.wraps(fn)\n",
    "        def helper(*args, **kargs):\n",
    "            helper.calls += 1\n",
    "            return fn(*args, **kargs)\n",
    "\n",
    "        helper.calls = 0\n",
    "        return helper\n",
    "\n",
    "    @counter        \n",
    "    def tsp_cost(self, tsp: np.ndarray):\n",
    "        assert tsp[0] == tsp[-1]\n",
    "        assert set(tsp) == set(range(len(self.CITIES)))\n",
    "\n",
    "        tot_cost = 0\n",
    "        for c1, c2 in zip(tsp, tsp[1:]):\n",
    "            tot_cost += self.DIST_MATRIX[c1, c2]\n",
    "        return tot_cost\n",
    "        "
   ]
  },
  {
   "cell_type": "markdown",
   "metadata": {},
   "source": [
    "## My Greedy Algorithm\n",
    "It's a \"DFS\" that only consider the N closest city as next possible vertex, not feasible since is a NP-hard problem "
   ]
  },
  {
   "cell_type": "code",
   "execution_count": null,
   "metadata": {},
   "outputs": [],
   "source": [
    "Tsp = namedtuple('Tsp', ['path','dist', 'partialDist'])\n",
    "\n",
    "class tspProblemDFS(tspProblem):\n",
    "    def __init__(self, country, n = 2):\n",
    "        self.p = super().__init__(country)\n",
    "        self.N = n\n",
    "        self.bestTsp = Tsp(None, None, None)\n",
    "        \n",
    "    def stepDistance(self, c1: int, c2: int):\n",
    "        return self.DIST_MATRIX[c1,c2]\n",
    "    \n",
    "    def dfs_R(self, tsp = Tsp(np.array([0]), None, 0), visited = np.array([0])):\n",
    "        if tsp.path.size == len(self.CITIES):\n",
    "            tspDist = tsp.partialDist + self.stepDistance(tsp.path[-1], 0)\n",
    "            if self.bestTsp.dist == None or self.bestTsp.dist > tspDist:\n",
    "                self.bestTsp = Tsp(np.append(tsp.path, [0]), None, tspDist)\n",
    "            return\n",
    "        else:\n",
    "            closestNCity = set(np.setdiff1d(np.argsort(self.DIST_MATRIX[tsp.path[-1],:]), visited, assume_unique=True)[:self.N].flatten())\n",
    "            while bool(closestNCity):\n",
    "                nextCity = [closestNCity.pop()]\n",
    "                newPartialDist = tsp.partialDist + self.stepDistance(tsp.path[-1], nextCity[0])\n",
    "                if self.bestTsp.dist != None and self.bestTsp.dist < newPartialDist:\n",
    "                    return\n",
    "                newTsp = Tsp(np.append(tsp.path, nextCity), None, newPartialDist)\n",
    "                self.dfs_R(newTsp, np.append(visited, nextCity))\n",
    "                \n",
    "problem = tspProblemDFS(country.it)\n",
    "problem.dfs_R()\n",
    "ic(problem.bestTsp)\n",
    "        "
   ]
  },
  {
   "cell_type": "markdown",
   "metadata": {},
   "source": [
    "## Evolutionary Algorithm"
   ]
  },
  {
   "cell_type": "code",
   "execution_count": null,
   "metadata": {},
   "outputs": [],
   "source": [
    "class tspProblemEA(tspProblem):\n",
    "    @dataclass\n",
    "    class Individual:\n",
    "        def __init__(self, genome, cost):\n",
    "            self.genome: np.ndarray = genome\n",
    "            self.fitness: float = cost\n",
    "    \n",
    "    def parent_selection(self, population) -> Individual:\n",
    "        candidates = sorted(np.random.choice(population, 2), key=lambda i: i.fitness)\n",
    "        return candidates[0]\n",
    "    \n",
    "    def mutation(self, p: Individual) -> Individual:\n",
    "        genome = p.genome.copy()\n",
    "        idx1 = np.random.randint(1, len(self.CITIES)-3)\n",
    "        idx2 = np.random.randint(idx1+2, len(self.CITIES)-1)\n",
    "        genome[idx1:idx2] = genome[idx2-1:idx1-1:-1]\n",
    "        return self.Individual(genome, self.tsp_cost(genome))"
   ]
  },
  {
   "cell_type": "code",
   "execution_count": 246,
   "metadata": {},
   "outputs": [],
   "source": [
    "def ea(problem: tspProblemEA, generations = 1000, population_size = 1000, offspring_size=100):\n",
    "    population = [(lambda x: problem.Individual(x, problem.tsp_cost(x)))((lambda x: np.append( x, x[0]))(np.random.permutation(len(problem.CITIES)))) for _ in range(population_size)]\n",
    "        \n",
    "    for g in tqdm(range(generations)):\n",
    "        offspring = list()\n",
    "        for _ in range(offspring_size):\n",
    "            offspring.append(problem.mutation(problem.parent_selection(population)))\n",
    "        population.extend(offspring)\n",
    "        population.sort(key=lambda i: i.fitness)\n",
    "        population = population[:population_size]\n",
    "        \n",
    "    return (population[0], problem.tsp_cost.calls)"
   ]
  },
  {
   "cell_type": "code",
   "execution_count": null,
   "metadata": {},
   "outputs": [
    {
     "data": {
      "application/vnd.jupyter.widget-view+json": {
       "model_id": "a1103245f65c4a8aa2b703c82866be8f",
       "version_major": 2,
       "version_minor": 0
      },
      "text/plain": [
       "  0%|          | 0/1000 [00:00<?, ?it/s]"
      ]
     },
     "metadata": {},
     "output_type": "display_data"
    }
   ],
   "source": [
    "countries = [country.vn, country.it, country.us, country.ru, country.cn]\n",
    "for c in countries:\n",
    "    problem = tspProblemEA(c)\n",
    "    winner, cost = ea(problem)\n",
    "    ic(float(winner.fitness), c)"
   ]
  }
 ],
 "metadata": {
  "kernelspec": {
   "display_name": "CI2024_lab2_env",
   "language": "python",
   "name": "python3"
  },
  "language_info": {
   "codemirror_mode": {
    "name": "ipython",
    "version": 3
   },
   "file_extension": ".py",
   "mimetype": "text/x-python",
   "name": "python",
   "nbconvert_exporter": "python",
   "pygments_lexer": "ipython3",
   "version": "3.12.3"
  }
 },
 "nbformat": 4,
 "nbformat_minor": 2
}
